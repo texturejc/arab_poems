{
 "cells": [
  {
   "cell_type": "code",
   "execution_count": null,
   "id": "2bea332a-8982-4985-aca4-ed6daf176d4c",
   "metadata": {},
   "outputs": [],
   "source": [
    "!pip install openpyxl"
   ]
  },
  {
   "cell_type": "code",
   "execution_count": null,
   "id": "7d35c8ad-e4e9-4da9-909f-fa4008fa775c",
   "metadata": {},
   "outputs": [],
   "source": [
    "import pandas as pd \n",
    "import seaborn as sns \n",
    "sns.set() \n",
    "import plotly.express as px \n",
    "import matplotlib.pyplot as plt \n",
    "from nltk.corpus import wordnet as wn \n",
    "from nltk.stem.wordnet import WordNetLemmatizer \n",
    "lemmatizer = WordNetLemmatizer() \n",
    "from nltk.tokenize import word_tokenize \n",
    "from sklearn.preprocessing import MinMaxScaler"
   ]
  },
  {
   "cell_type": "code",
   "execution_count": null,
   "id": "50f528b2-27f0-4ba2-b7c6-a817f338f5ba",
   "metadata": {},
   "outputs": [],
   "source": [
    "file_path = 'Poems/Poems.csv'"
   ]
  },
  {
   "cell_type": "code",
   "execution_count": null,
   "id": "44148175-de44-436b-9b5f-d459c2690942",
   "metadata": {},
   "outputs": [],
   "source": [
    "vad = pd.read_excel('Poems/vad.xlsx', index_col=0)\n",
    "sm = pd.read_excel('Poems/sensorimotor.xlsx', index_col=0)\n",
    "sm = sm[['auditory', 'gustatory', 'haptic', 'interoceptive', 'olfactory', 'visual', \n",
    "         'foot_leg', 'hand_arm', 'head', 'mouth', 'torso']]\n",
    "scaler = MinMaxScaler()\n",
    "scaled_data = scaler.fit_transform(sm)\n",
    "all_norms = vad.merge(scaled_df, left_index=True, right_index=True)\n",
    "all_norms.to_csv('merged_data.txt', sep='\\t')"
   ]
  },
  {
   "cell_type": "code",
   "execution_count": null,
   "id": "5ffe145c-c50b-49b9-be4b-55c2ed035660",
   "metadata": {},
   "outputs": [],
   "source": [
    "arab_poetry = pd.DataFrame(data, index=index)\n",
    "\n",
    "lemmatizer = WordNetLemmatizer()\n",
    "\n",
    "def arab_poetry(text):\n",
    "    tokens = word_tokenize(text)\n",
    "    lemmas = [lemmatizer.lemmatize(i.lower()) for i in tokens]\n",
    "    \n",
    "    arab = []\n",
    "    poems = []\n",
    "    \n",
    "    for i in lemmas:\n",
    "        if i in all_norms.index:\n",
    "            norms.append(all_norms.loc[i])\n",
    "            words.append(i)\n",
    "        else:\n",
    "            pass\n",
    "    norms_df = pd.DataFrame(norms, index=words)\n",
    "    return norms_df\n",
    "\n",
    "def arab_poetry_mean(text):\n",
    "    tokens = word_tokenize(text)\n",
    "    lemmas = [lemmatizer.lemmatize(i.lower()) for i in tokens]\n",
    "    \n",
    "    words = []\n",
    "    norms = []\n",
    "    \n",
    "    for i in lemmas:\n",
    "        if i in all_norms.index:\n",
    "            norms.append(all_norms.loc[i])\n",
    "            words.append(i)\n",
    "        else:\n",
    "            pass\n",
    "    norms_df = pd.DataFrame(norms)\n",
    "    return norms_df.mean()\n",
    "\n",
    "# Example usage:\n",
    "text = \"Word1 and word2 are in the dataset\"\n",
    "print(arab_poetry(text))\n",
    "print(arab_poetry_mean(text))\n"
   ]
  },
  {
   "cell_type": "code",
   "execution_count": null,
   "id": "d259cd16-3c43-460c-baab-06eb7b93d6a3",
   "metadata": {},
   "outputs": [],
   "source": [
    "with open(\"arab_poetry.txt\", \"r\") as f:\n",
    "    poems = f.read()"
   ]
  },
  {
   "cell_type": "code",
   "execution_count": null,
   "id": "57e7442b-a2ea-4f88-8288-97d2ee734a49",
   "metadata": {},
   "outputs": [],
   "source": [
    "clean = []\n",
    "for i in arab_poetry:\n",
    "    parts = i.split('PIZZA')\n",
    "    clean.append(parts)"
   ]
  },
  {
   "cell_type": "code",
   "execution_count": null,
   "id": "e76abdf5-b040-4b20-994f-811c6bd79e16",
   "metadata": {},
   "outputs": [],
   "source": [
    "arab_poetry_mean(clean[0])"
   ]
  },
  {
   "cell_type": "code",
   "execution_count": null,
   "id": "43572f61-1e4a-4238-84cf-877f34a8a0a6",
   "metadata": {},
   "outputs": [],
   "source": [
    "poems = []\n",
    "\n",
    "for i in clean: \n",
    "    poems.append(arab_poetry_mean(i))\n",
    "\n",
    "poems_df = pd.DataFrame(poems)"
   ]
  },
  {
   "cell_type": "code",
   "execution_count": null,
   "id": "a7a4eed6-a8c4-4d0d-b74d-8be98cec1c84",
   "metadata": {},
   "outputs": [],
   "source": [
    "poems_df"
   ]
  },
  {
   "cell_type": "code",
   "execution_count": null,
   "id": "fdf79257-c10a-4dc2-83ef-1b6842a5d0f6",
   "metadata": {},
   "outputs": [],
   "source": [
    "sns.regplot(x = poems_df.index, y = 'valience', data = poems_df)"
   ]
  },
  {
   "cell_type": "code",
   "execution_count": null,
   "id": "55a7003e-4799-4d4b-9b1f-36d83df90133",
   "metadata": {},
   "outputs": [],
   "source": []
  }
 ],
 "metadata": {
  "kernelspec": {
   "display_name": "Python 3 (ipykernel)",
   "language": "python",
   "name": "python3"
  },
  "language_info": {
   "codemirror_mode": {
    "name": "ipython",
    "version": 3
   },
   "file_extension": ".py",
   "mimetype": "text/x-python",
   "name": "python",
   "nbconvert_exporter": "python",
   "pygments_lexer": "ipython3",
   "version": "3.11.6"
  }
 },
 "nbformat": 4,
 "nbformat_minor": 5
}
